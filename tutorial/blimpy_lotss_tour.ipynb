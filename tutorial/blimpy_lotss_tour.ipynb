{
 "cells": [
  {
   "cell_type": "code",
   "execution_count": 1,
   "id": "5c19597c-4638-4861-845c-47326a0d5a47",
   "metadata": {},
   "outputs": [],
   "source": [
    "import blimpy as bl\n",
    "import numpy as np\n",
    "import pylab as plt\n",
    "\n",
    "# For the purposes of illustration, I will assume that the Voyager files have been placed in /opt/voyager_data/.\n",
    "# Here is a link to the web folder holding Voyager files: http://blpd0.ssl.berkeley.edu/Voyager_data/\n",
    "DATA_DIR = '../test_data/'\n",
    "lotss_fits = DATA_DIR + 'lotss_test.fits'"
   ]
  },
  {
   "cell_type": "code",
   "execution_count": 3,
   "id": "e3c2a210-ef40-401e-a7ff-27586fa3d390",
   "metadata": {},
   "outputs": [
    {
     "name": "stdout",
     "output_type": "stream",
     "text": [
      "(3577, 1, 800)\n",
      "(800,)\n",
      "56810.812546608795\n",
      "(3577,)\n",
      "3.0668356667051078 294\n",
      "1.111318784821257 729\n",
      "56810.812546608795\n",
      "extracting integration 0...\n"
     ]
    }
   ],
   "source": [
    "ff = bl.LoTSSWaterfall(lotss_fits)\n",
    "\n",
    "print(ff.data.shape)\n",
    "print(ff.container.populate_freqs().shape)\n",
    "print(ff.container.populate_timestamps().shape)\n",
    "print(ff.data[0].max(), ff.data[0].argmax())\n",
    "print(ff.data[-1].max(), ff.data[-1].argmax())\n",
    "\n",
    "plt.subplot(1,1,1)\n",
    "ff.plot_spectrum()\n",
    "plt.tight_layout()"
   ]
  },
  {
   "cell_type": "code",
   "execution_count": 4,
   "id": "89952541-c15b-443f-8f61-58a744d68cdf",
   "metadata": {},
   "outputs": [
    {
     "name": "stdout",
     "output_type": "stream",
     "text": [
      "\n",
      "--- File Info ---\n",
      "          SIMPLE :                             True\n",
      "          BITPIX :                              -64\n",
      "           NAXIS :                                3\n",
      "          NAXIS1 :                             3577\n",
      "          NAXIS2 :                              800\n",
      "          NAXIS3 :                                4\n",
      "          CTYPE1 :                             Time\n",
      "          CRPIX1 :                              1.0\n",
      "          CRVAL1 :                              0.0\n",
      "          CDELT1 :                8.053063717670739\n",
      "          CUNIT1 :                             Time\n",
      "          CTYPE2 :                        Frequency\n",
      "          CRPIX2 :                              1.0\n",
      "          CRVAL2 :                114.9789428710938\n",
      "          CDELT2 :                         0.078125\n",
      "          CUNIT2 :                              MHz\n",
      "          CTYPE3 :                 Stokes parameter\n",
      "          CRPIX3 :                              1.0\n",
      "          CRVAL3 :                              1.0\n",
      "          CDELT3 :                              1.0\n",
      "          CUNIT3 :                                 \n",
      "        DATE-CRE :                       2020-07-13\n",
      "           OBSID :                          L230461\n",
      "        CHAN-WID :                          78125.0\n",
      "         FRQ-MIN :                114978942.8710938\n",
      "         FRQ-MAX :                177400817.8710938\n",
      "        OBS-STAR :          2014-06-02T19:30:04.027\n",
      "        OBS-STOP :          2014-06-03T03:30:01.782\n",
      "          RA_RAD :                4.263369183020282\n",
      "         DEC_RAD :               0.9645955291939234\n",
      "            NAME :                         CR_Dra_*\n",
      "          ORIGIN :       DynSpecMS v1.0-18-g94ea115\n",
      "          nchans :                              800\n",
      "            foff :                     0.078125 MHz\n",
      "            nifs :                                1\n",
      "           nbits :                               64\n",
      "     source_name :                         CR_Dra_*\n",
      "           tsamp :                8.053063717670739\n",
      "            fch1 :            114.9789428710938 MHz\n",
      "   tstart (ISOT) :          2014-06-02T19:30:04.027\n",
      "    tstart (MJD) :               56810.812546608795\n",
      "\n",
      "Num ints in file :                             3577\n",
      "      File shape :                   (3577, 1, 800)\n",
      "--- Selection Info ---\n",
      "Data selection shape :                   (3577, 1, 800)\n",
      "Minimum freq (MHz) :                114.9789428710938\n",
      "Maximum freq (MHz) :                177.4008178710938\n"
     ]
    }
   ],
   "source": [
    "ff.info()"
   ]
  },
  {
   "cell_type": "code",
   "execution_count": null,
   "id": "a7c988c1-4ffb-4798-b42d-2c3bc0bcdb49",
   "metadata": {},
   "outputs": [],
   "source": []
  }
 ],
 "metadata": {
  "kernelspec": {
   "display_name": "Python 3 (ipykernel)",
   "language": "python",
   "name": "python3"
  },
  "language_info": {
   "codemirror_mode": {
    "name": "ipython",
    "version": 3
   },
   "file_extension": ".py",
   "mimetype": "text/x-python",
   "name": "python",
   "nbconvert_exporter": "python",
   "pygments_lexer": "ipython3",
   "version": "3.11.5"
  }
 },
 "nbformat": 4,
 "nbformat_minor": 5
}
